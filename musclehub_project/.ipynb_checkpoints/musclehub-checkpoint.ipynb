{
 "cells": [
  {
   "cell_type": "markdown",
   "metadata": {},
   "source": [
    "# Capstone Project 1: MuscleHub AB Test"
   ]
  },
  {
   "cell_type": "markdown",
   "metadata": {},
   "source": [
    "## Step 1: Get started with SQL"
   ]
  },
  {
   "cell_type": "markdown",
   "metadata": {},
   "source": [
    "Like most businesses, Janet keeps her data in a SQL database.  Normally, you'd download the data from her database to a csv file, and then load it into a Jupyter Notebook using Pandas.\n",
    "\n",
    "For this project, you'll have to access SQL in a slightly different way.  You'll be using a special Codecademy library that lets you type SQL queries directly into this Jupyter notebook.  You'll have pass each SQL query as an argument to a function called `sql_query`.  Each query will return a Pandas DataFrame.  Here's an example:"
   ]
  },
  {
   "cell_type": "code",
   "execution_count": 2,
   "metadata": {},
   "outputs": [],
   "source": [
    "# This import only needs to happen once, at the beginning of the notebook\n",
    "from codecademySQL import sql_query"
   ]
  },
  {
   "cell_type": "code",
   "execution_count": 3,
   "metadata": {},
   "outputs": [
    {
     "data": {
      "text/html": [
       "<div>\n",
       "<style scoped>\n",
       "    .dataframe tbody tr th:only-of-type {\n",
       "        vertical-align: middle;\n",
       "    }\n",
       "\n",
       "    .dataframe tbody tr th {\n",
       "        vertical-align: top;\n",
       "    }\n",
       "\n",
       "    .dataframe thead th {\n",
       "        text-align: right;\n",
       "    }\n",
       "</style>\n",
       "<table border=\"1\" class=\"dataframe\">\n",
       "  <thead>\n",
       "    <tr style=\"text-align: right;\">\n",
       "      <th></th>\n",
       "      <th>index</th>\n",
       "      <th>first_name</th>\n",
       "      <th>last_name</th>\n",
       "      <th>email</th>\n",
       "      <th>gender</th>\n",
       "      <th>visit_date</th>\n",
       "    </tr>\n",
       "  </thead>\n",
       "  <tbody>\n",
       "    <tr>\n",
       "      <th>0</th>\n",
       "      <td>0</td>\n",
       "      <td>Karen</td>\n",
       "      <td>Manning</td>\n",
       "      <td>Karen.Manning@gmail.com</td>\n",
       "      <td>female</td>\n",
       "      <td>5-1-17</td>\n",
       "    </tr>\n",
       "    <tr>\n",
       "      <th>1</th>\n",
       "      <td>1</td>\n",
       "      <td>Annette</td>\n",
       "      <td>Boone</td>\n",
       "      <td>AB9982@gmail.com</td>\n",
       "      <td>female</td>\n",
       "      <td>5-1-17</td>\n",
       "    </tr>\n",
       "    <tr>\n",
       "      <th>2</th>\n",
       "      <td>2</td>\n",
       "      <td>Salvador</td>\n",
       "      <td>Merritt</td>\n",
       "      <td>SalvadorMerritt12@outlook.com</td>\n",
       "      <td>male</td>\n",
       "      <td>5-1-17</td>\n",
       "    </tr>\n",
       "    <tr>\n",
       "      <th>3</th>\n",
       "      <td>3</td>\n",
       "      <td>Martha</td>\n",
       "      <td>Maxwell</td>\n",
       "      <td>Martha.Maxwell@gmail.com</td>\n",
       "      <td>female</td>\n",
       "      <td>5-1-17</td>\n",
       "    </tr>\n",
       "    <tr>\n",
       "      <th>4</th>\n",
       "      <td>4</td>\n",
       "      <td>Andre</td>\n",
       "      <td>Mayer</td>\n",
       "      <td>AndreMayer90@gmail.com</td>\n",
       "      <td>male</td>\n",
       "      <td>5-1-17</td>\n",
       "    </tr>\n",
       "  </tbody>\n",
       "</table>\n",
       "</div>"
      ],
      "text/plain": [
       "<div>\n",
       "<style scoped>\n",
       "    .dataframe tbody tr th:only-of-type {\n",
       "        vertical-align: middle;\n",
       "    }\n",
       "\n",
       "    .dataframe tbody tr th {\n",
       "        vertical-align: top;\n",
       "    }\n",
       "\n",
       "    .dataframe thead th {\n",
       "        text-align: right;\n",
       "    }\n",
       "</style>\n",
       "<table border=\"1\" class=\"dataframe\">\n",
       "  <thead>\n",
       "    <tr style=\"text-align: right;\">\n",
       "      <th></th>\n",
       "      <th>index</th>\n",
       "      <th>first_name</th>\n",
       "      <th>last_name</th>\n",
       "      <th>email</th>\n",
       "      <th>gender</th>\n",
       "      <th>visit_date</th>\n",
       "    </tr>\n",
       "  </thead>\n",
       "  <tbody>\n",
       "    <tr>\n",
       "      <th>0</th>\n",
       "      <td>0</td>\n",
       "      <td>Karen</td>\n",
       "      <td>Manning</td>\n",
       "      <td>Karen.Manning@gmail.com</td>\n",
       "      <td>female</td>\n",
       "      <td>5-1-17</td>\n",
       "    </tr>\n",
       "    <tr>\n",
       "      <th>1</th>\n",
       "      <td>1</td>\n",
       "      <td>Annette</td>\n",
       "      <td>Boone</td>\n",
       "      <td>AB9982@gmail.com</td>\n",
       "      <td>female</td>\n",
       "      <td>5-1-17</td>\n",
       "    </tr>\n",
       "    <tr>\n",
       "      <th>2</th>\n",
       "      <td>2</td>\n",
       "      <td>Salvador</td>\n",
       "      <td>Merritt</td>\n",
       "      <td>SalvadorMerritt12@outlook.com</td>\n",
       "      <td>male</td>\n",
       "      <td>5-1-17</td>\n",
       "    </tr>\n",
       "    <tr>\n",
       "      <th>3</th>\n",
       "      <td>3</td>\n",
       "      <td>Martha</td>\n",
       "      <td>Maxwell</td>\n",
       "      <td>Martha.Maxwell@gmail.com</td>\n",
       "      <td>female</td>\n",
       "      <td>5-1-17</td>\n",
       "    </tr>\n",
       "    <tr>\n",
       "      <th>4</th>\n",
       "      <td>4</td>\n",
       "      <td>Andre</td>\n",
       "      <td>Mayer</td>\n",
       "      <td>AndreMayer90@gmail.com</td>\n",
       "      <td>male</td>\n",
       "      <td>5-1-17</td>\n",
       "    </tr>\n",
       "  </tbody>\n",
       "</table>\n",
       "</div>"
      ]
     },
     "execution_count": 3,
     "metadata": {},
     "output_type": "execute_result"
    }
   ],
   "source": [
    "# Here's an example of a query that just displays some data\n",
    "sql_query('''\n",
    "SELECT *\n",
    "FROM visits\n",
    "LIMIT 5\n",
    "''')"
   ]
  },
  {
   "cell_type": "code",
   "execution_count": 4,
   "metadata": {},
   "outputs": [],
   "source": [
    "# Here's an example where we save the data to a DataFrame\n",
    "df = sql_query('''\n",
    "SELECT *\n",
    "FROM applications\n",
    "LIMIT 5\n",
    "''')"
   ]
  },
  {
   "cell_type": "markdown",
   "metadata": {},
   "source": [
    "## Step 2: Get your dataset"
   ]
  },
  {
   "cell_type": "markdown",
   "metadata": {},
   "source": [
    "Let's get started!\n",
    "\n",
    "Janet of MuscleHub has a SQLite database, which contains several tables that will be helpful to you in this investigation:\n",
    "- `visits` contains information about potential gym customers who have visited MuscleHub\n",
    "- `fitness_tests` contains information about potential customers in \"Group A\", who were given a fitness test\n",
    "- `applications` contains information about any potential customers (both \"Group A\" and \"Group B\") who filled out an application.  Not everyone in `visits` will have filled out an application.\n",
    "- `purchases` contains information about customers who purchased a membership to MuscleHub.\n",
    "\n",
    "Use the space below to examine each table."
   ]
  },
  {
   "cell_type": "code",
   "execution_count": null,
   "metadata": {},
   "outputs": [
    {
     "name": "stdout",
     "output_type": "stream",
     "text": [
      "   index first_name last_name                          email  gender  \\\n0      0      Karen   Manning        Karen.Manning@gmail.com  female   \n1      1    Annette     Boone               AB9982@gmail.com  female   \n2      2   Salvador   Merritt  SalvadorMerritt12@outlook.com    male   \n3      3     Martha   Maxwell       Martha.Maxwell@gmail.com  female   \n4      4      Andre     Mayer         AndreMayer90@gmail.com    male   \n\n  visit_date  \n0     5-1-17  \n1     5-1-17  \n2     5-1-17  \n3     5-1-17  \n4     5-1-17  \n"
     ]
    }
   ],
   "source": [
    "# Examine visits here\n",
    "visits_df = sql_query('''\n",
    "SELECT *\n",
    "FROM visits\n",
    "''')\n",
    "print(visits_df.head(10))"
   ]
  },
  {
   "cell_type": "code",
   "execution_count": 57,
   "metadata": {
    "collapsed": true
   },
   "outputs": [
    {
     "name": "stdout",
     "output_type": "stream",
     "text": [
      "     index  first_name   last_name                           email  gender  \\\n0        0         Kim      Walter           KimWalter58@gmail.com  female   \n1        1         Tom     Webster                TW3857@gmail.com    male   \n2        2      Marcus       Bauer          Marcus.Bauer@gmail.com    male   \n3        3     Roberta        Best              RB6305@hotmail.com  female   \n4        4      Carrie     Francis              CF1896@hotmail.com  female   \n5        5      Teresa       Yates            TYates1988@gmail.com  female   \n6        6    Salvador    Cardenas         SCardenas1980@gmail.com    male   \n7        7     Valerie       Munoz            VMunoz1998@gmail.com  female   \n8        8      Jeremy        Howe             JHowe1982@gmail.com    male   \n9        9        Joel       Combs                JC9481@gmail.com    male   \n10      10       Nancy       Morin           Nancy.Morin@gmail.com  female   \n11      11    Lorraine     Lindsay                LL3161@gmail.com  female   \n12      12       Carla    Guerrero                CG6354@gmail.com  female   \n13      13        Andy    Roberson         ARoberson1972@yahoo.com    male   \n14      14      Arnold      Madden           AMadden1998@gmail.com    male   \n15      15      Morris        Lott                ML9504@gmail.com    male   \n16      16    Clifford     Guthrie      Clifford.Guthrie@gmail.com    male   \n17      17        Luis      Hewitt          LuisHewitt70@gmail.com    male   \n18      18      George       Boone         GeorgeBoone55@gmail.com    male   \n19      19        Anne       Velez                AV8351@gmail.com  female   \n20      20   Christina     Whitley    ChristinaWhitley36@gmail.com  female   \n21      21      Connie   Cleveland      CCleveland1986@outlook.com  female   \n22      22        Leon      Spence                LS5927@gmail.com    male   \n23      23       Bobby       Ayers           Bobby.Ayers@gmail.com    male   \n24      24      Philip     Santana      Philip.Santana@outlook.com    male   \n25      25       Lewis       Huber            LHuber1993@gmail.com    male   \n26      26       Viola        Owen           ViolaOwen38@gmail.com  female   \n27      27     Raymond      Conley                RC7718@gmail.com    male   \n28      28    Franklin        Mays         Franklin.Mays@gmail.com    male   \n29      29      Yvonne   Nicholson     YvonneNicholson61@gmail.com  female   \n..     ...         ...         ...                             ...     ...   \n470    470  Jacqueline    Galloway  JacquelineGalloway47@gmail.com  female   \n471    471        Judy     Hartman          Judy.Hartman@gmail.com  female   \n472    472    Salvador      Daniel       Salvador.Daniel@gmail.com    male   \n473    473        Alma      Decker         Alma.Decker@outlook.com  female   \n474    474     Frances     Holcomb              FH2699@hotmail.com  female   \n475    475       Edgar       Greer           Edgar.Greer@gmail.com    male   \n476    476    Kristina        Moss         Kristina.Moss@gmail.com  female   \n477    477       Vicki     Calhoun        VickiCalhoun98@gmail.com  female   \n478    478       Helen     Buckley        HelenBuckley89@gmail.com  female   \n479    479        Alex   Blackwell        Alex.Blackwell@gmail.com    male   \n480    480      Adrian  Villarreal     Adrian.Villarreal@gmail.com    male   \n481    481       April      Cotton          April.Cotton@gmail.com  female   \n482    482       Jerry       Yates              JY1288@outlook.com    male   \n483    483       Wanda    Carrillo        Wanda.Carrillo@gmail.com  female   \n484    484       Tammy     Bridges         Tammy.Bridges@gmail.com  female   \n485    485       Wendy      Barber           WBarber1997@gmail.com  female   \n486    486     Matthew    Randolph     MatthewRandolph49@yahoo.com    male   \n487    487        Jill      Mercer         JMercer1986@hotmail.com  female   \n488    488     Charles        Mayo             CMayo1973@gmail.com    male   \n489    489      Jerome      Bender           JBender1973@gmail.com    male   \n490    490      Manuel      Abbott        ManuelAbbott91@gmail.com    male   \n491    491      Margie     Herring       MargieHerring90@gmail.com  female   \n492    492     Pauline   Macdonald    PaulineMacdonald29@gmail.com  female   \n493    493       Danny        Page            DannyPage2@gmail.com    male   \n494    494       James  Livingston                JL3537@gmail.com    male   \n495    495     Bernice     Cabrera                BC2331@gmail.com  female   \n496    496      Walter   Blanchard     WalterBlanchard35@gmail.com    male   \n497    497        Bill    Figueroa         Bill.Figueroa@gmail.com    male   \n498    498        Ella      Daniel          EllaDaniel69@gmail.com  female   \n499    499     William   Velasquez        WVelasquez1993@gmail.com    male   \n\n    fitness_test_date  \n0          2017-07-03  \n1          2017-07-02  \n2          2017-07-01  \n3          2017-07-02  \n4          2017-07-05  \n5          2017-07-02  \n6          2017-07-07  \n7          2017-07-03  \n8          2017-07-06  \n9          2017-07-01  \n10         2017-07-05  \n11         2017-07-05  \n12         2017-07-03  \n13         2017-07-05  \n14         2017-07-01  \n15         2017-07-03  \n16         2017-07-04  \n17         2017-07-06  \n18         2017-07-03  \n19         2017-07-06  \n20         2017-07-02  \n21         2017-07-01  \n22         2017-07-03  \n23         2017-07-04  \n24         2017-07-07  \n25         2017-07-07  \n26         2017-07-05  \n27         2017-07-04  \n28         2017-07-07  \n29         2017-07-03  \n..                ...  \n470        2017-07-30  \n471        2017-07-29  \n472        2017-07-26  \n473        2017-07-30  \n474        2017-07-27  \n475        2017-07-24  \n476        2017-07-26  \n477        2017-07-26  \n478        2017-07-26  \n479        2017-07-30  \n480        2017-07-29  \n481        2017-07-29  \n482        2017-07-28  \n483        2017-07-28  \n484        2017-07-24  \n485        2017-07-26  \n486        2017-07-27  \n487        2017-07-30  \n488        2017-07-29  \n489        2017-07-29  \n490        2017-07-28  \n491        2017-07-28  \n492        2017-07-27  \n493        2017-07-28  \n494        2017-07-30  \n495        2017-07-26  \n496        2017-07-26  \n497        2017-07-31  \n498        2017-07-27  \n499        2017-07-27  \n\n[500 rows x 6 columns]\n"
     ]
    }
   ],
   "source": [
    "# Examine fitness_tests here\n",
    "fitness_tests_df = sql_query('''\n",
    "SELECT *\n",
    "FROM fitness_tests\n",
    "''')\n",
    "print(fitness_tests_df.head(500))"
   ]
  },
  {
   "cell_type": "code",
   "execution_count": 58,
   "metadata": {},
   "outputs": [
    {
     "name": "stdout",
     "output_type": "stream",
     "text": [
      "   index first_name last_name                    email  gender  \\\n0      0        Roy    Abbott    RoyAbbott32@gmail.com    male   \n1      1      Agnes   Acevedo  AgnesAcevedo1@gmail.com  female   \n2      2    Roberta   Acevedo         RA8063@gmail.com  female   \n3      3     Darren    Acosta  DAcosta1996@hotmail.com    male   \n4      4     Vernon    Acosta    VAcosta1975@gmail.com    male   \n\n  application_date  \n0       2017-08-12  \n1       2017-09-29  \n2       2017-09-15  \n3       2017-07-26  \n4       2017-07-14  \n"
     ]
    }
   ],
   "source": [
    "# Examine applications here\n",
    "applications_df = sql_query('''\n",
    "SELECT *\n",
    "FROM applications\n",
    "''')\n",
    "print(applications_df.head())"
   ]
  },
  {
   "cell_type": "code",
   "execution_count": 59,
   "metadata": {},
   "outputs": [
    {
     "name": "stdout",
     "output_type": "stream",
     "text": [
      "   index first_name last_name                    email  gender purchase_date\n0      0        Roy    Abbott    RoyAbbott32@gmail.com    male    2017-08-18\n1      1    Roberta   Acevedo         RA8063@gmail.com  female    2017-09-16\n2      2     Vernon    Acosta    VAcosta1975@gmail.com    male    2017-07-20\n3      3     Darren    Acosta  DAcosta1996@hotmail.com    male    2017-07-27\n4      4       Dawn    Adkins    Dawn.Adkins@gmail.com  female    2017-08-24\n"
     ]
    }
   ],
   "source": [
    "# Examine purchases here\n",
    "purchases_df = sql_query('''\n",
    "SELECT *\n",
    "FROM purchases\n",
    "''')\n",
    "print(purchases_df.head())"
   ]
  },
  {
   "cell_type": "markdown",
   "metadata": {},
   "source": [
    "We'd like to download a giant DataFrame containing all of this data.  You'll need to write a query that does the following things:\n",
    "\n",
    "1. Not all visits in  `visits` occurred during the A/B test.  You'll only want to pull data where `visit_date` is on or after `7-1-17`.\n",
    "\n",
    "2. You'll want to perform a series of `LEFT JOIN` commands to combine the four tables that we care about.  You'll need to perform the joins on `first_name`, `last_name`, and `email`.  Pull the following columns:\n",
    "\n",
    "\n",
    "- `visits.first_name`\n",
    "- `visits.last_name`\n",
    "- `visits.gender`\n",
    "- `visits.email`\n",
    "- `visits.visit_date`\n",
    "- `fitness_tests.fitness_test_date`\n",
    "- `applications.application_date`\n",
    "- `purchases.purchase_date`\n",
    "\n",
    "Save the result of this query to a variable called `df`.\n",
    "\n",
    "Hint: your result should have 5004 rows.  Does it?"
   ]
  },
  {
   "cell_type": "code",
   "execution_count": 60,
   "metadata": {},
   "outputs": [
    {
     "name": "stdout",
     "output_type": "stream",
     "text": [
      "     first_name   last_name  gender                          email visit_date  \\\n0           Kim      Walter  female          KimWalter58@gmail.com     7-1-17   \n1           Tom     Webster    male               TW3857@gmail.com     7-1-17   \n2        Edward       Bowen    male         Edward.Bowen@gmail.com     7-1-17   \n3        Marcus       Bauer    male         Marcus.Bauer@gmail.com     7-1-17   \n4       Roberta        Best  female             RB6305@hotmail.com     7-1-17   \n5        Joseph       Foley    male        JosephFoley81@gmail.com     7-1-17   \n6        Carrie     Francis  female             CF1896@hotmail.com     7-1-17   \n7        Sharon     William  female     Sharon.William@outlook.com     7-1-17   \n8        Teresa       Yates  female           TYates1988@gmail.com     7-1-17   \n9      Salvador    Cardenas    male        SCardenas1980@gmail.com     7-1-17   \n10         Glen      Barker    male          GBarker1976@gmail.com     7-1-17   \n11      Valerie       Munoz  female           VMunoz1998@gmail.com     7-1-17   \n12       Jeremy        Howe    male            JHowe1982@gmail.com     7-1-17   \n13         Joel       Combs    male               JC9481@gmail.com     7-1-17   \n14        Oscar      Forbes    male         Oscar.Forbes@gmail.com     7-1-17   \n15       Darryl      Albert    male          DAlbert1975@gmail.com     7-1-17   \n16      Armando  Valenzuela    male  ArmandoValenzuela67@gmail.com     7-1-17   \n17         June       Ayers  female               JA2612@gmail.com     7-1-17   \n18        Nancy       Morin  female          Nancy.Morin@gmail.com     7-1-17   \n19     Lorraine     Lindsay  female               LL3161@gmail.com     7-1-17   \n20        Carla    Guerrero  female               CG6354@gmail.com     7-1-17   \n21         Gina      Monroe  female          GMonroe1973@gmail.com     7-1-17   \n22         Andy    Roberson    male        ARoberson1972@yahoo.com     7-1-17   \n23       Arnold      Madden    male          AMadden1998@gmail.com     7-1-17   \n24       Norman   Frederick    male               NF6074@gmail.com     7-1-17   \n25       Morris        Lott    male               ML9504@gmail.com     7-1-17   \n26         Cory      Gamble    male          CGamble1983@gmail.com     7-1-17   \n27       Marcus     Gilliam    male         MGilliam1997@gmail.com     7-1-17   \n28     Clifford     Guthrie    male     Clifford.Guthrie@gmail.com     7-1-17   \n29        Terry     Merrill    male       TerryMerrill91@gmail.com     7-1-17   \n...         ...         ...     ...                            ...        ...   \n4974    Dolores     Nielsen  female       DNielsen1989@outlook.com     9-9-17   \n4975      Kathy       Drake  female         KathyDrake58@yahoo.com     9-9-17   \n4976      Misty    Roberson  female       Misty.Roberson@gmail.com     9-9-17   \n4977     Marian      Daniel  female      Marian.Daniel@outlook.com     9-9-17   \n4978      Wanda        Snow  female          WandaSnow93@gmail.com     9-9-17   \n4979     Nathan    Gallegos    male        NGallegos1993@gmail.com     9-9-17   \n4980     Evelyn      Reeves  female      Evelyn.Reeves@hotmail.com     9-9-17   \n4981      Kelly        Tate    male               KT1133@yahoo.com     9-9-17   \n4982     Willie        Mann  female            WMann1985@gmail.com     9-9-17   \n4983      Ellen       Blake  female               EB2921@gmail.com     9-9-17   \n4984   Marjorie        Wong  female            MWong1985@gmail.com     9-9-17   \n4985     Margie      Walton  female        Margie.Walton@gmail.com     9-9-17   \n4986      Peter    Figueroa    male               PF2641@gmail.com     9-9-17   \n4987    Clifton        Leon    male         Clifton.Leon@gmail.com     9-9-17   \n4988     Gordon    Espinoza    male               GE6498@gmail.com     9-9-17   \n4989       Luis       Horne    male             LH9941@outlook.com     9-9-17   \n4990    Francis      Durham    male      FrancisDurham84@gmail.com     9-9-17   \n4991    Suzanne    Humphrey  female     SuzanneHumphrey4@gmail.com     9-9-17   \n4992      Glenn      Kinney    male         Glenn.Kinney@gmail.com     9-9-17   \n4993       Jose   Stevenson    male      JoseStevenson56@gmail.com     9-9-17   \n4994    Gregory        Wong    male            GWong1970@gmail.com     9-9-17   \n4995       Dean       Mejia    male               DM7848@gmail.com     9-9-17   \n4996     Sharon        Hahn  female               SH5322@gmail.com     9-9-17   \n4997       Adam      Grimes    male          Adam.Grimes@gmail.com     9-9-17   \n4998       Sara      Malone  female          SMalone1995@gmail.com     9-9-17   \n4999     Rachel     Hensley  female      RachelHensley38@gmail.com     9-9-17   \n5000       Leon      Harmon    male          Leon.Harmon@gmail.com     9-9-17   \n5001       Andy       Pratt    male          AndyPratt27@gmail.com     9-9-17   \n5002      Ruben     Nielsen    male     RubenNielsen93@hotmail.com     9-9-17   \n5003    Charles      Carver    male               CC2490@gmail.com     9-9-17   \n\n     fitness_test_date application_date purchase_date  \n0           2017-07-03             None          None  \n1           2017-07-02             None          None  \n2                 None       2017-07-04    2017-07-04  \n3           2017-07-01       2017-07-03    2017-07-05  \n4           2017-07-02             None          None  \n5                 None             None          None  \n6           2017-07-05             None          None  \n7                 None             None          None  \n8           2017-07-02             None          None  \n9           2017-07-07       2017-07-06          None  \n10                None             None          None  \n11          2017-07-03       2017-07-05    2017-07-06  \n12          2017-07-06             None          None  \n13          2017-07-01             None          None  \n14                None             None          None  \n15                None             None          None  \n16                None             None          None  \n17                None             None          None  \n18          2017-07-05             None          None  \n19          2017-07-05             None          None  \n20          2017-07-03             None          None  \n21                None             None          None  \n22          2017-07-05             None          None  \n23          2017-07-01             None          None  \n24                None             None          None  \n25          2017-07-03             None          None  \n26                None             None          None  \n27                None             None          None  \n28          2017-07-04             None          None  \n29                None             None          None  \n...                ...              ...           ...  \n4974        2017-09-14             None          None  \n4975              None             None          None  \n4976        2017-09-14             None          None  \n4977              None             None          None  \n4978              None             None          None  \n4979              None             None          None  \n4980              None             None          None  \n4981        2017-09-12             None          None  \n4982        2017-09-11             None          None  \n4983        2017-09-10             None          None  \n4984              None             None          None  \n4985              None             None          None  \n4986        2017-09-15             None          None  \n4987        2017-09-12             None          None  \n4988        2017-09-12             None          None  \n4989              None             None          None  \n4990              None             None          None  \n4991        2017-09-09       2017-09-13    2017-09-18  \n4992              None             None          None  \n4993              None             None          None  \n4994        2017-09-09             None          None  \n4995        2017-09-13             None          None  \n4996              None             None          None  \n4997              None             None          None  \n4998        2017-09-13             None          None  \n4999              None             None          None  \n5000        2017-09-15             None          None  \n5001        2017-09-15             None          None  \n5002              None       2017-09-13          None  \n5003        2017-09-12             None          None  \n\n[5004 rows x 8 columns]\n"
     ]
    }
   ],
   "source": [
    "df = sql_query('''\n",
    "SELECT visits.first_name\n",
    ",visits.last_name\n",
    ",visits.gender\n",
    ",visits.email\n",
    ",visits.visit_date\n",
    ",fitness_tests.fitness_test_date\n",
    ",applications.application_date\n",
    ",purchases.purchase_date\n",
    "FROM visits\n",
    "LEFT JOIN fitness_tests on fitness_tests.first_name = visits.first_name    --fitness_tests\n",
    "AND fitness_tests.last_name = visits.last_name\n",
    "AND fitness_tests.email = visits.email\n",
    "LEFT JOIN applications on applications.first_name = visits.first_name      --applications\n",
    "AND applications.last_name = visits.last_name\n",
    "AND applications.email = visits.email\n",
    "LEFT JOIN purchases on purchases.first_name = visits.first_name            --purchases\n",
    "AND purchases.last_name = visits.last_name\n",
    "AND purchases.email = visits.email\n",
    "WHERE visits.visit_date >= '7-1-17'\n",
    "''')\n",
    "print(df)"
   ]
  },
  {
   "cell_type": "markdown",
   "metadata": {},
   "source": [
    "## Step 3: Investigate the A and B groups"
   ]
  },
  {
   "cell_type": "markdown",
   "metadata": {},
   "source": [
    "We have some data to work with! Import the following modules so that we can start doing analysis:\n",
    "- `import pandas as pd`\n",
    "- `from matplotlib import pyplot as plt`"
   ]
  },
  {
   "cell_type": "code",
   "execution_count": 61,
   "metadata": {},
   "outputs": [],
   "source": [
    "import pandas as pd\n",
    "from matplotlib import pyplot as plt"
   ]
  },
  {
   "cell_type": "markdown",
   "metadata": {},
   "source": [
    "We're going to add some columns to `df` to help us with our analysis.\n",
    "\n",
    "Start by adding a column called `ab_test_group`.  It should be `A` if `fitness_test_date` is not `None`, and `B` if `fitness_test_date` is `None`."
   ]
  },
  {
   "cell_type": "code",
   "execution_count": 62,
   "metadata": {},
   "outputs": [
    {
     "name": "stdout",
     "output_type": "stream",
     "text": [
      "     first_name   last_name  gender                          email visit_date  \\\n0           Kim      Walter  female          KimWalter58@gmail.com     7-1-17   \n1           Tom     Webster    male               TW3857@gmail.com     7-1-17   \n2        Edward       Bowen    male         Edward.Bowen@gmail.com     7-1-17   \n3        Marcus       Bauer    male         Marcus.Bauer@gmail.com     7-1-17   \n4       Roberta        Best  female             RB6305@hotmail.com     7-1-17   \n5        Joseph       Foley    male        JosephFoley81@gmail.com     7-1-17   \n6        Carrie     Francis  female             CF1896@hotmail.com     7-1-17   \n7        Sharon     William  female     Sharon.William@outlook.com     7-1-17   \n8        Teresa       Yates  female           TYates1988@gmail.com     7-1-17   \n9      Salvador    Cardenas    male        SCardenas1980@gmail.com     7-1-17   \n10         Glen      Barker    male          GBarker1976@gmail.com     7-1-17   \n11      Valerie       Munoz  female           VMunoz1998@gmail.com     7-1-17   \n12       Jeremy        Howe    male            JHowe1982@gmail.com     7-1-17   \n13         Joel       Combs    male               JC9481@gmail.com     7-1-17   \n14        Oscar      Forbes    male         Oscar.Forbes@gmail.com     7-1-17   \n15       Darryl      Albert    male          DAlbert1975@gmail.com     7-1-17   \n16      Armando  Valenzuela    male  ArmandoValenzuela67@gmail.com     7-1-17   \n17         June       Ayers  female               JA2612@gmail.com     7-1-17   \n18        Nancy       Morin  female          Nancy.Morin@gmail.com     7-1-17   \n19     Lorraine     Lindsay  female               LL3161@gmail.com     7-1-17   \n20        Carla    Guerrero  female               CG6354@gmail.com     7-1-17   \n21         Gina      Monroe  female          GMonroe1973@gmail.com     7-1-17   \n22         Andy    Roberson    male        ARoberson1972@yahoo.com     7-1-17   \n23       Arnold      Madden    male          AMadden1998@gmail.com     7-1-17   \n24       Norman   Frederick    male               NF6074@gmail.com     7-1-17   \n25       Morris        Lott    male               ML9504@gmail.com     7-1-17   \n26         Cory      Gamble    male          CGamble1983@gmail.com     7-1-17   \n27       Marcus     Gilliam    male         MGilliam1997@gmail.com     7-1-17   \n28     Clifford     Guthrie    male     Clifford.Guthrie@gmail.com     7-1-17   \n29        Terry     Merrill    male       TerryMerrill91@gmail.com     7-1-17   \n...         ...         ...     ...                            ...        ...   \n4974    Dolores     Nielsen  female       DNielsen1989@outlook.com     9-9-17   \n4975      Kathy       Drake  female         KathyDrake58@yahoo.com     9-9-17   \n4976      Misty    Roberson  female       Misty.Roberson@gmail.com     9-9-17   \n4977     Marian      Daniel  female      Marian.Daniel@outlook.com     9-9-17   \n4978      Wanda        Snow  female          WandaSnow93@gmail.com     9-9-17   \n4979     Nathan    Gallegos    male        NGallegos1993@gmail.com     9-9-17   \n4980     Evelyn      Reeves  female      Evelyn.Reeves@hotmail.com     9-9-17   \n4981      Kelly        Tate    male               KT1133@yahoo.com     9-9-17   \n4982     Willie        Mann  female            WMann1985@gmail.com     9-9-17   \n4983      Ellen       Blake  female               EB2921@gmail.com     9-9-17   \n4984   Marjorie        Wong  female            MWong1985@gmail.com     9-9-17   \n4985     Margie      Walton  female        Margie.Walton@gmail.com     9-9-17   \n4986      Peter    Figueroa    male               PF2641@gmail.com     9-9-17   \n4987    Clifton        Leon    male         Clifton.Leon@gmail.com     9-9-17   \n4988     Gordon    Espinoza    male               GE6498@gmail.com     9-9-17   \n4989       Luis       Horne    male             LH9941@outlook.com     9-9-17   \n4990    Francis      Durham    male      FrancisDurham84@gmail.com     9-9-17   \n4991    Suzanne    Humphrey  female     SuzanneHumphrey4@gmail.com     9-9-17   \n4992      Glenn      Kinney    male         Glenn.Kinney@gmail.com     9-9-17   \n4993       Jose   Stevenson    male      JoseStevenson56@gmail.com     9-9-17   \n4994    Gregory        Wong    male            GWong1970@gmail.com     9-9-17   \n4995       Dean       Mejia    male               DM7848@gmail.com     9-9-17   \n4996     Sharon        Hahn  female               SH5322@gmail.com     9-9-17   \n4997       Adam      Grimes    male          Adam.Grimes@gmail.com     9-9-17   \n4998       Sara      Malone  female          SMalone1995@gmail.com     9-9-17   \n4999     Rachel     Hensley  female      RachelHensley38@gmail.com     9-9-17   \n5000       Leon      Harmon    male          Leon.Harmon@gmail.com     9-9-17   \n5001       Andy       Pratt    male          AndyPratt27@gmail.com     9-9-17   \n5002      Ruben     Nielsen    male     RubenNielsen93@hotmail.com     9-9-17   \n5003    Charles      Carver    male               CC2490@gmail.com     9-9-17   \n\n     fitness_test_date application_date purchase_date ab_test_group  \n0           2017-07-03             None          None             A  \n1           2017-07-02             None          None             A  \n2                 None       2017-07-04    2017-07-04             B  \n3           2017-07-01       2017-07-03    2017-07-05             A  \n4           2017-07-02             None          None             A  \n5                 None             None          None             B  \n6           2017-07-05             None          None             A  \n7                 None             None          None             B  \n8           2017-07-02             None          None             A  \n9           2017-07-07       2017-07-06          None             A  \n10                None             None          None             B  \n11          2017-07-03       2017-07-05    2017-07-06             A  \n12          2017-07-06             None          None             A  \n13          2017-07-01             None          None             A  \n14                None             None          None             B  \n15                None             None          None             B  \n16                None             None          None             B  \n17                None             None          None             B  \n18          2017-07-05             None          None             A  \n19          2017-07-05             None          None             A  \n20          2017-07-03             None          None             A  \n21                None             None          None             B  \n22          2017-07-05             None          None             A  \n23          2017-07-01             None          None             A  \n24                None             None          None             B  \n25          2017-07-03             None          None             A  \n26                None             None          None             B  \n27                None             None          None             B  \n28          2017-07-04             None          None             A  \n29                None             None          None             B  \n...                ...              ...           ...           ...  \n4974        2017-09-14             None          None             A  \n4975              None             None          None             B  \n4976        2017-09-14             None          None             A  \n4977              None             None          None             B  \n4978              None             None          None             B  \n4979              None             None          None             B  \n4980              None             None          None             B  \n4981        2017-09-12             None          None             A  \n4982        2017-09-11             None          None             A  \n4983        2017-09-10             None          None             A  \n4984              None             None          None             B  \n4985              None             None          None             B  \n4986        2017-09-15             None          None             A  \n4987        2017-09-12             None          None             A  \n4988        2017-09-12             None          None             A  \n4989              None             None          None             B  \n4990              None             None          None             B  \n4991        2017-09-09       2017-09-13    2017-09-18             A  \n4992              None             None          None             B  \n4993              None             None          None             B  \n4994        2017-09-09             None          None             A  \n4995        2017-09-13             None          None             A  \n4996              None             None          None             B  \n4997              None             None          None             B  \n4998        2017-09-13             None          None             A  \n4999              None             None          None             B  \n5000        2017-09-15             None          None             A  \n5001        2017-09-15             None          None             A  \n5002              None       2017-09-13          None             B  \n5003        2017-09-12             None          None             A  \n\n[5004 rows x 9 columns]\n"
     ]
    }
   ],
   "source": [
    "df['ab_test_group'] = df.fitness_test_date.apply(lambda fd: 'B' if pd.isnull(fd) else 'A')\n",
    "print(df)"
   ]
  },
  {
   "cell_type": "markdown",
   "metadata": {},
   "source": [
    "Let's do a quick sanity check that Janet split her visitors such that about half are in A and half are in B.\n",
    "\n",
    "Start by using `groupby` to count how many users are in each `ab_test_group`.  Save the results to `ab_counts`."
   ]
  },
  {
   "cell_type": "code",
   "execution_count": 63,
   "metadata": {},
   "outputs": [
    {
     "name": "stdout",
     "output_type": "stream",
     "text": [
      "ab_test_group\nA    2504\nB    2500\nName: ab_test_group, dtype: int64\n"
     ]
    }
   ],
   "source": [
    "ab_counts = df.groupby('ab_test_group').ab_test_group.count()\n",
    "print(ab_counts)\n",
    "#print(ab_counts['A'])"
   ]
  },
  {
   "cell_type": "markdown",
   "metadata": {},
   "source": [
    "We'll want to include this information in our presentation.  Let's create a pie cart using `plt.pie`.  Make sure to include:\n",
    "- Use `plt.axis('equal')` so that your pie chart looks nice\n",
    "- Add a legend labeling `A` and `B`\n",
    "- Use `autopct` to label the percentage of each group\n",
    "- Save your figure as `ab_test_pie_chart.png`"
   ]
  },
  {
   "cell_type": "code",
   "execution_count": 66,
   "metadata": {},
   "outputs": [
    {
     "data": {
      "image/png": "[encoded data removed]",
      "text/plain": [
       "<matplotlib.figure.Figure at 0x11297ee48>"
      ]
     },
     "metadata": {},
     "output_type": "display_data"
    },
    {
     "data": {
      "text/plain": [
       "<matplotlib.figure.Figure at 0x110686e48>"
      ]
     },
     "execution_count": 0,
     "metadata": {},
     "output_type": "execute_result"
    }
   ],
   "source": [
    "\n",
    "plt.pie(ab_counts, autopct='%.2f%%')\n",
    "plt.axis('equal')\n",
    "plt.legend(ab_counts.index)\n",
    "plt.show()\n",
    "plt.savefig('ab_test_pie_chart.png')"
   ]
  },
  {
   "cell_type": "markdown",
   "metadata": {},
   "source": [
    "## Step 4: Who picks up an application?"
   ]
  },
  {
   "cell_type": "markdown",
   "metadata": {},
   "source": [
    "Recall that the sign-up process for MuscleHub has several steps:\n",
    "1. Take a fitness test with a personal trainer (only Group A)\n",
    "2. Fill out an application for the gym\n",
    "3. Send in their payment for their first month's membership\n",
    "\n",
    "Let's examine how many people make it to Step 2, filling out an application.\n",
    "\n",
    "Start by creating a new column in `df` called `is_application` which is `Application` if `application_date` is not `None` and `No Application`, otherwise."
   ]
  },
  {
   "cell_type": "code",
   "execution_count": null,
   "metadata": {},
   "outputs": [],
   "source": []
  },
  {
   "cell_type": "markdown",
   "metadata": {},
   "source": [
    "Now, using `groupby`, count how many people from Group A and Group B either do or don't pick up an application.  You'll want to group by `ab_test_group` and `is_application`.  Save this new DataFrame as `app_counts`"
   ]
  },
  {
   "cell_type": "code",
   "execution_count": null,
   "metadata": {},
   "outputs": [],
   "source": []
  },
  {
   "cell_type": "markdown",
   "metadata": {},
   "source": [
    "We're going to want to calculate the percent of people in each group who complete an application.  It's going to be much easier to do this if we pivot `app_counts` such that:\n",
    "- The `index` is `ab_test_group`\n",
    "- The `columns` are `is_application`\n",
    "Perform this pivot and save it to the variable `app_pivot`.  Remember to call `reset_index()` at the end of the pivot!"
   ]
  },
  {
   "cell_type": "code",
   "execution_count": null,
   "metadata": {},
   "outputs": [],
   "source": []
  },
  {
   "cell_type": "markdown",
   "metadata": {},
   "source": [
    "Define a new column called `Total`, which is the sum of `Application` and `No Application`."
   ]
  },
  {
   "cell_type": "code",
   "execution_count": null,
   "metadata": {},
   "outputs": [],
   "source": []
  },
  {
   "cell_type": "markdown",
   "metadata": {},
   "source": [
    "Calculate another column called `Percent with Application`, which is equal to `Application` divided by `Total`."
   ]
  },
  {
   "cell_type": "code",
   "execution_count": null,
   "metadata": {},
   "outputs": [],
   "source": []
  },
  {
   "cell_type": "markdown",
   "metadata": {},
   "source": [
    "It looks like more people from Group B turned in an application.  Why might that be?\n",
    "\n",
    "We need to know if this difference is statistically significant.\n",
    "\n",
    "Choose a hypothesis tests, import it from `scipy` and perform it.  Be sure to note the p-value.\n",
    "Is this result significant?"
   ]
  },
  {
   "cell_type": "code",
   "execution_count": null,
   "metadata": {},
   "outputs": [],
   "source": []
  },
  {
   "cell_type": "markdown",
   "metadata": {},
   "source": [
    "## Step 4: Who purchases a membership?"
   ]
  },
  {
   "cell_type": "markdown",
   "metadata": {},
   "source": [
    "Of those who picked up an application, how many purchased a membership?\n",
    "\n",
    "Let's begin by adding a column to `df` called `is_member` which is `Member` if `purchase_date` is not `None`, and `Not Member` otherwise."
   ]
  },
  {
   "cell_type": "code",
   "execution_count": null,
   "metadata": {},
   "outputs": [],
   "source": []
  },
  {
   "cell_type": "markdown",
   "metadata": {},
   "source": [
    "Now, let's create a DataFrame called `just_apps` the contains only people who picked up an application."
   ]
  },
  {
   "cell_type": "code",
   "execution_count": null,
   "metadata": {},
   "outputs": [],
   "source": []
  },
  {
   "cell_type": "markdown",
   "metadata": {},
   "source": [
    "Great! Now, let's do a `groupby` to find out how many people in `just_apps` are and aren't members from each group.  Follow the same process that we did in Step 4, including pivoting the data.  You should end up with a DataFrame that looks like this:\n",
    "\n",
    "|is_member|ab_test_group|Member|Not Member|Total|Percent Purchase|\n",
    "|-|-|-|-|-|-|\n",
    "|0|A|?|?|?|?|\n",
    "|1|B|?|?|?|?|\n",
    "\n",
    "Save your final DataFrame as `member_pivot`."
   ]
  },
  {
   "cell_type": "code",
   "execution_count": null,
   "metadata": {},
   "outputs": [],
   "source": []
  },
  {
   "cell_type": "markdown",
   "metadata": {},
   "source": [
    "It looks like people who took the fitness test were more likely to purchase a membership **if** they picked up an application.  Why might that be?\n",
    "\n",
    "Just like before, we need to know if this difference is statistically significant.  Choose a hypothesis tests, import it from `scipy` and perform it.  Be sure to note the p-value.\n",
    "Is this result significant?"
   ]
  },
  {
   "cell_type": "code",
   "execution_count": null,
   "metadata": {},
   "outputs": [],
   "source": []
  },
  {
   "cell_type": "markdown",
   "metadata": {},
   "source": [
    "Previously, we looked at what percent of people **who picked up applications** purchased memberships.  What we really care about is what percentage of **all visitors** purchased memberships.  Return to `df` and do a `groupby` to find out how many people in `df` are and aren't members from each group.  Follow the same process that we did in Step 4, including pivoting the data.  You should end up with a DataFrame that looks like this:\n",
    "\n",
    "|is_member|ab_test_group|Member|Not Member|Total|Percent Purchase|\n",
    "|-|-|-|-|-|-|\n",
    "|0|A|?|?|?|?|\n",
    "|1|B|?|?|?|?|\n",
    "\n",
    "Save your final DataFrame as `final_member_pivot`."
   ]
  },
  {
   "cell_type": "code",
   "execution_count": null,
   "metadata": {},
   "outputs": [],
   "source": []
  },
  {
   "cell_type": "markdown",
   "metadata": {},
   "source": [
    "Previously, when we only considered people who had **already picked up an application**, we saw that there was no significant difference in membership between Group A and Group B.\n",
    "\n",
    "Now, when we consider all people who **visit MuscleHub**, we see that there might be a significant different in memberships between Group A and Group B.  Perform a significance test and check."
   ]
  },
  {
   "cell_type": "code",
   "execution_count": null,
   "metadata": {},
   "outputs": [],
   "source": []
  },
  {
   "cell_type": "markdown",
   "metadata": {},
   "source": [
    "## Step 5: Summarize the acquisition funel with a chart"
   ]
  },
  {
   "cell_type": "markdown",
   "metadata": {},
   "source": [
    "We'd like to make a bar chart for Janet that shows the difference between Group A (people who were given the fitness test) and Group B (people who were not given the fitness test) at each state of the process:\n",
    "- Percent of visitors who apply\n",
    "- Percent of applicants who purchase a membership\n",
    "- Percent of visitors who purchase a membership\n",
    "\n",
    "Create one plot for **each** of the three sets of percentages that you calculated in `app_pivot`, `member_pivot` and `final_member_pivot`.  Each plot should:\n",
    "- Label the two bars as `Fitness Test` and `No Fitness Test`\n",
    "- Make sure that the y-axis ticks are expressed as percents (i.e., `5%`)\n",
    "- Have a title"
   ]
  },
  {
   "cell_type": "code",
   "execution_count": null,
   "metadata": {},
   "outputs": [],
   "source": []
  },
  {
   "cell_type": "code",
   "execution_count": null,
   "metadata": {},
   "outputs": [],
   "source": []
  },
  {
   "cell_type": "code",
   "execution_count": null,
   "metadata": {},
   "outputs": [],
   "source": []
  }
 ],
 "metadata": {
  "kernelspec": {
   "display_name": "Python 3",
   "language": "python",
   "name": "python3"
  },
  "language_info": {
   "codemirror_mode": {
    "name": "ipython",
    "version": 3
   },
   "file_extension": ".py",
   "mimetype": "text/x-python",
   "name": "python",
   "nbconvert_exporter": "python",
   "pygments_lexer": "ipython3",
   "version": "3.6.4"
  }
 },
 "nbformat": 4,
 "nbformat_minor": 2
}
